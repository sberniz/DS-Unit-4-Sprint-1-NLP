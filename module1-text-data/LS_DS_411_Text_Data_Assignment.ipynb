{
  "nbformat": 4,
  "nbformat_minor": 0,
  "metadata": {
    "colab": {
      "name": "LS_DS_411_Text_Data_Assignment.ipynb",
      "provenance": [],
      "collapsed_sections": [],
      "include_colab_link": true
    },
    "kernelspec": {
      "display_name": "Python 3",
      "language": "python",
      "name": "python3"
    },
    "language_info": {
      "codemirror_mode": {
        "name": "ipython",
        "version": 3
      },
      "file_extension": ".py",
      "mimetype": "text/x-python",
      "name": "python",
      "nbconvert_exporter": "python",
      "pygments_lexer": "ipython3",
      "version": "3.8.2"
    },
    "toc-autonumbering": false
  },
  "cells": [
    {
      "cell_type": "markdown",
      "metadata": {
        "id": "view-in-github",
        "colab_type": "text"
      },
      "source": [
        "<a href=\"https://colab.research.google.com/github/sberniz/DS-Unit-4-Sprint-1-NLP/blob/main/module1-text-data/LS_DS_411_Text_Data_Assignment.ipynb\" target=\"_parent\"><img src=\"https://colab.research.google.com/assets/colab-badge.svg\" alt=\"Open In Colab\"/></a>"
      ]
    },
    {
      "cell_type": "code",
      "metadata": {
        "id": "U0e0P5FISGxd",
        "colab_type": "code",
        "colab": {
          "base_uri": "https://localhost:8080/",
          "height": 592
        },
        "outputId": "e1192a9b-f704-4072-a3f2-dd7a6aae4475"
      },
      "source": [
        "#Pip installation\n",
        "!python -m spacy download en_core_web_lg"
      ],
      "execution_count": 3,
      "outputs": [
        {
          "output_type": "stream",
          "text": [
            "Collecting en_core_web_lg==2.2.5\n",
            "\u001b[?25l  Downloading https://github.com/explosion/spacy-models/releases/download/en_core_web_lg-2.2.5/en_core_web_lg-2.2.5.tar.gz (827.9MB)\n",
            "\u001b[K     |████████████████████████████████| 827.9MB 1.2MB/s \n",
            "\u001b[?25hRequirement already satisfied: spacy>=2.2.2 in /usr/local/lib/python3.6/dist-packages (from en_core_web_lg==2.2.5) (2.2.4)\n",
            "Requirement already satisfied: blis<0.5.0,>=0.4.0 in /usr/local/lib/python3.6/dist-packages (from spacy>=2.2.2->en_core_web_lg==2.2.5) (0.4.1)\n",
            "Requirement already satisfied: srsly<1.1.0,>=1.0.2 in /usr/local/lib/python3.6/dist-packages (from spacy>=2.2.2->en_core_web_lg==2.2.5) (1.0.2)\n",
            "Requirement already satisfied: tqdm<5.0.0,>=4.38.0 in /usr/local/lib/python3.6/dist-packages (from spacy>=2.2.2->en_core_web_lg==2.2.5) (4.41.1)\n",
            "Requirement already satisfied: thinc==7.4.0 in /usr/local/lib/python3.6/dist-packages (from spacy>=2.2.2->en_core_web_lg==2.2.5) (7.4.0)\n",
            "Requirement already satisfied: numpy>=1.15.0 in /usr/local/lib/python3.6/dist-packages (from spacy>=2.2.2->en_core_web_lg==2.2.5) (1.18.5)\n",
            "Requirement already satisfied: wasabi<1.1.0,>=0.4.0 in /usr/local/lib/python3.6/dist-packages (from spacy>=2.2.2->en_core_web_lg==2.2.5) (0.7.1)\n",
            "Requirement already satisfied: setuptools in /usr/local/lib/python3.6/dist-packages (from spacy>=2.2.2->en_core_web_lg==2.2.5) (49.6.0)\n",
            "Requirement already satisfied: murmurhash<1.1.0,>=0.28.0 in /usr/local/lib/python3.6/dist-packages (from spacy>=2.2.2->en_core_web_lg==2.2.5) (1.0.2)\n",
            "Requirement already satisfied: plac<1.2.0,>=0.9.6 in /usr/local/lib/python3.6/dist-packages (from spacy>=2.2.2->en_core_web_lg==2.2.5) (1.1.3)\n",
            "Requirement already satisfied: preshed<3.1.0,>=3.0.2 in /usr/local/lib/python3.6/dist-packages (from spacy>=2.2.2->en_core_web_lg==2.2.5) (3.0.2)\n",
            "Requirement already satisfied: requests<3.0.0,>=2.13.0 in /usr/local/lib/python3.6/dist-packages (from spacy>=2.2.2->en_core_web_lg==2.2.5) (2.23.0)\n",
            "Requirement already satisfied: cymem<2.1.0,>=2.0.2 in /usr/local/lib/python3.6/dist-packages (from spacy>=2.2.2->en_core_web_lg==2.2.5) (2.0.3)\n",
            "Requirement already satisfied: catalogue<1.1.0,>=0.0.7 in /usr/local/lib/python3.6/dist-packages (from spacy>=2.2.2->en_core_web_lg==2.2.5) (1.0.0)\n",
            "Requirement already satisfied: chardet<4,>=3.0.2 in /usr/local/lib/python3.6/dist-packages (from requests<3.0.0,>=2.13.0->spacy>=2.2.2->en_core_web_lg==2.2.5) (3.0.4)\n",
            "Requirement already satisfied: certifi>=2017.4.17 in /usr/local/lib/python3.6/dist-packages (from requests<3.0.0,>=2.13.0->spacy>=2.2.2->en_core_web_lg==2.2.5) (2020.6.20)\n",
            "Requirement already satisfied: urllib3!=1.25.0,!=1.25.1,<1.26,>=1.21.1 in /usr/local/lib/python3.6/dist-packages (from requests<3.0.0,>=2.13.0->spacy>=2.2.2->en_core_web_lg==2.2.5) (1.24.3)\n",
            "Requirement already satisfied: idna<3,>=2.5 in /usr/local/lib/python3.6/dist-packages (from requests<3.0.0,>=2.13.0->spacy>=2.2.2->en_core_web_lg==2.2.5) (2.10)\n",
            "Requirement already satisfied: importlib-metadata>=0.20; python_version < \"3.8\" in /usr/local/lib/python3.6/dist-packages (from catalogue<1.1.0,>=0.0.7->spacy>=2.2.2->en_core_web_lg==2.2.5) (1.7.0)\n",
            "Requirement already satisfied: zipp>=0.5 in /usr/local/lib/python3.6/dist-packages (from importlib-metadata>=0.20; python_version < \"3.8\"->catalogue<1.1.0,>=0.0.7->spacy>=2.2.2->en_core_web_lg==2.2.5) (3.1.0)\n",
            "Building wheels for collected packages: en-core-web-lg\n",
            "  Building wheel for en-core-web-lg (setup.py) ... \u001b[?25l\u001b[?25hdone\n",
            "  Created wheel for en-core-web-lg: filename=en_core_web_lg-2.2.5-cp36-none-any.whl size=829180944 sha256=5eef85a628f91dcc12d77d39171439acd0bfb60732cb3a82be24a63e4c2403da\n",
            "  Stored in directory: /tmp/pip-ephem-wheel-cache-h7dzhl1e/wheels/2a/c1/a6/fc7a877b1efca9bc6a089d6f506f16d3868408f9ff89f8dbfc\n",
            "Successfully built en-core-web-lg\n",
            "Installing collected packages: en-core-web-lg\n",
            "Successfully installed en-core-web-lg-2.2.5\n",
            "\u001b[38;5;2m✔ Download and installation successful\u001b[0m\n",
            "You can now load the model via spacy.load('en_core_web_lg')\n"
          ],
          "name": "stdout"
        }
      ]
    },
    {
      "cell_type": "code",
      "metadata": {
        "id": "UmU3q091Tp5G",
        "colab_type": "code",
        "colab": {
          "base_uri": "https://localhost:8080/",
          "height": 107
        },
        "outputId": "9d32d452-025d-45e4-a9d4-90a20f40e483"
      },
      "source": [
        "!pip install squarify"
      ],
      "execution_count": 7,
      "outputs": [
        {
          "output_type": "stream",
          "text": [
            "Collecting squarify\n",
            "  Downloading https://files.pythonhosted.org/packages/0b/2b/2e77c35326efec19819cd1d729540d4d235e6c2a3f37658288a363a67da5/squarify-0.4.3-py3-none-any.whl\n",
            "Installing collected packages: squarify\n",
            "Successfully installed squarify-0.4.3\n"
          ],
          "name": "stdout"
        }
      ]
    },
    {
      "cell_type": "markdown",
      "metadata": {
        "id": "ZK3WVJfcSERY",
        "colab_type": "text"
      },
      "source": [
        "<img align=\"left\" src=\"https://lever-client-logos.s3.amazonaws.com/864372b1-534c-480e-acd5-9711f850815c-1524247202159.png\" width=200>\n",
        "<br></br>\n",
        "<br></br>\n",
        "\n",
        "# Natural Language Processing (NLP)\n",
        "## *Data Science Unit 4 Sprint 1 Assignment 1*\n",
        "\n",
        "Your goal in this assignment: find the attributes of the best & worst coffee shops in the dataset. The text is fairly raw: dates in the review, extra words in the `star_rating` column, etc. You'll probably want to clean that stuff up for a better analysis. \n",
        "\n",
        "Analyze the corpus of text using text visualizations of token frequency. Try cleaning the data as much as possible. Try the following techniques: \n",
        "- Lemmatization\n",
        "- Custom stopword removal\n",
        "\n",
        "Keep in mind the attributes of good tokens. Once you have a solid baseline, layer in the star rating in your visualization(s). Key part of this assignment - produce a write-up of the attributes of the best and worst coffee shops. Based on your analysis, what makes the best the best and the worst the worst. Use graphs and numbesr from your analysis to support your conclusions. There should be plenty of markdown cells! :coffee:"
      ]
    },
    {
      "cell_type": "code",
      "metadata": {
        "id": "4UQRil8eSERg",
        "colab_type": "code",
        "colab": {
          "base_uri": "https://localhost:8080/",
          "height": 321
        },
        "outputId": "5a1a07e2-0aba-44c4-fa88-cf13bab02e90"
      },
      "source": [
        "from IPython.display import YouTubeVideo\n",
        "\n",
        "YouTubeVideo('Jml7NVYm8cs')"
      ],
      "execution_count": 4,
      "outputs": [
        {
          "output_type": "execute_result",
          "data": {
            "text/html": [
              "\n",
              "        <iframe\n",
              "            width=\"400\"\n",
              "            height=\"300\"\n",
              "            src=\"https://www.youtube.com/embed/Jml7NVYm8cs\"\n",
              "            frameborder=\"0\"\n",
              "            allowfullscreen\n",
              "        ></iframe>\n",
              "        "
            ],
            "text/plain": [
              "<IPython.lib.display.YouTubeVideo at 0x7f5244f7f128>"
            ],
            "image/jpeg": "[encoded data removed]"
          },
          "metadata": {
            "tags": []
          },
          "execution_count": 4
        }
      ]
    },
    {
      "cell_type": "code",
      "metadata": {
        "id": "6qEL0KEKSERu",
        "colab_type": "code",
        "colab": {
          "base_uri": "https://localhost:8080/",
          "height": 35
        },
        "outputId": "52eacb50-0dd1-4826-c144-fe24070a0fed"
      },
      "source": [
        "%pwd"
      ],
      "execution_count": 5,
      "outputs": [
        {
          "output_type": "execute_result",
          "data": {
            "application/vnd.google.colaboratory.intrinsic+json": {
              "type": "string"
            },
            "text/plain": [
              "'/content'"
            ]
          },
          "metadata": {
            "tags": []
          },
          "execution_count": 5
        }
      ]
    },
    {
      "cell_type": "code",
      "metadata": {
        "id": "rxbZbNPBSER6",
        "colab_type": "code",
        "colab": {
          "base_uri": "https://localhost:8080/",
          "height": 72
        },
        "outputId": "42e4c7f1-91c1-4b4c-dff6-69f9b1e8d421"
      },
      "source": [
        "# Start here \n",
        "# Imports and NLP Pre Trained Model \n",
        "\n",
        "# Base\n",
        "from collections import Counter\n",
        "import re\n",
        " \n",
        "import pandas as pd\n",
        "\n",
        "# Plotting\n",
        "import squarify\n",
        "import matplotlib.pyplot as plt\n",
        "import seaborn as sns\n",
        "\n",
        "# NLP Libraries\n",
        "import spacy\n",
        "from spacy.tokenizer import Tokenizer\n",
        "from nltk.stem import PorterStemmer\n",
        "\n",
        "nlp = spacy.load(\"en_core_web_sm\")\n"
      ],
      "execution_count": 8,
      "outputs": [
        {
          "output_type": "stream",
          "text": [
            "/usr/local/lib/python3.6/dist-packages/statsmodels/tools/_testing.py:19: FutureWarning: pandas.util.testing is deprecated. Use the functions in the public API at pandas.testing instead.\n",
            "  import pandas.util.testing as tm\n"
          ],
          "name": "stderr"
        }
      ]
    },
    {
      "cell_type": "code",
      "metadata": {
        "id": "aruEwcgWSESM",
        "colab_type": "code",
        "colab": {
          "base_uri": "https://localhost:8080/",
          "height": 202
        },
        "outputId": "9cae9c78-f087-4caa-d010-92c2badaa4e6"
      },
      "source": [
        "# Dataset loading\n",
        "\n",
        "url = \"https://raw.githubusercontent.com/DS-17/DS-Unit-4-Sprint-1-NLP/main/module1-text-data/data/yelp_coffeeshop_review_data.csv\"\n",
        "\n",
        "shops = pd.read_csv(url)\n",
        "shops.head()"
      ],
      "execution_count": 222,
      "outputs": [
        {
          "output_type": "execute_result",
          "data": {
            "text/html": [
              "<div>\n",
              "<style scoped>\n",
              "    .dataframe tbody tr th:only-of-type {\n",
              "        vertical-align: middle;\n",
              "    }\n",
              "\n",
              "    .dataframe tbody tr th {\n",
              "        vertical-align: top;\n",
              "    }\n",
              "\n",
              "    .dataframe thead th {\n",
              "        text-align: right;\n",
              "    }\n",
              "</style>\n",
              "<table border=\"1\" class=\"dataframe\">\n",
              "  <thead>\n",
              "    <tr style=\"text-align: right;\">\n",
              "      <th></th>\n",
              "      <th>coffee_shop_name</th>\n",
              "      <th>full_review_text</th>\n",
              "      <th>star_rating</th>\n",
              "    </tr>\n",
              "  </thead>\n",
              "  <tbody>\n",
              "    <tr>\n",
              "      <th>0</th>\n",
              "      <td>The Factory - Cafe With a Soul</td>\n",
              "      <td>11/25/2016 1 check-in Love love loved the atm...</td>\n",
              "      <td>5.0 star rating</td>\n",
              "    </tr>\n",
              "    <tr>\n",
              "      <th>1</th>\n",
              "      <td>The Factory - Cafe With a Soul</td>\n",
              "      <td>12/2/2016 Listed in Date Night: Austin, Ambia...</td>\n",
              "      <td>4.0 star rating</td>\n",
              "    </tr>\n",
              "    <tr>\n",
              "      <th>2</th>\n",
              "      <td>The Factory - Cafe With a Soul</td>\n",
              "      <td>11/30/2016 1 check-in Listed in Brunch Spots ...</td>\n",
              "      <td>4.0 star rating</td>\n",
              "    </tr>\n",
              "    <tr>\n",
              "      <th>3</th>\n",
              "      <td>The Factory - Cafe With a Soul</td>\n",
              "      <td>11/25/2016 Very cool decor! Good drinks Nice ...</td>\n",
              "      <td>2.0 star rating</td>\n",
              "    </tr>\n",
              "    <tr>\n",
              "      <th>4</th>\n",
              "      <td>The Factory - Cafe With a Soul</td>\n",
              "      <td>12/3/2016 1 check-in They are located within ...</td>\n",
              "      <td>4.0 star rating</td>\n",
              "    </tr>\n",
              "  </tbody>\n",
              "</table>\n",
              "</div>"
            ],
            "text/plain": [
              "                  coffee_shop_name  ...        star_rating\n",
              "0  The Factory - Cafe With a Soul   ...   5.0 star rating \n",
              "1  The Factory - Cafe With a Soul   ...   4.0 star rating \n",
              "2  The Factory - Cafe With a Soul   ...   4.0 star rating \n",
              "3  The Factory - Cafe With a Soul   ...   2.0 star rating \n",
              "4  The Factory - Cafe With a Soul   ...   4.0 star rating \n",
              "\n",
              "[5 rows x 3 columns]"
            ]
          },
          "metadata": {
            "tags": []
          },
          "execution_count": 222
        }
      ]
    },
    {
      "cell_type": "code",
      "metadata": {
        "id": "vcepH-X9SES5",
        "colab_type": "code",
        "colab": {
          "base_uri": "https://localhost:8080/",
          "height": 35
        },
        "outputId": "48455630-12df-41c3-efc9-47006b0be8bd"
      },
      "source": [
        "# Change Start Rating to floats for numerical calculations\n",
        "shops['star_rating'] = shops['star_rating'].str[:2].astype(float)\n",
        "shops['star_rating'].dtypes"
      ],
      "execution_count": 223,
      "outputs": [
        {
          "output_type": "execute_result",
          "data": {
            "text/plain": [
              "dtype('float64')"
            ]
          },
          "metadata": {
            "tags": []
          },
          "execution_count": 223
        }
      ]
    },
    {
      "cell_type": "code",
      "metadata": {
        "id": "qjJmhG1eSETQ",
        "colab_type": "code",
        "colab": {}
      },
      "source": [
        "# Full Review Text Data Cleaning Remove Date from text\n",
        "#Function remove punctuations and dates \n",
        "def clean(sample):\n",
        "  sample = sample[11:]\n",
        "  sample = re.sub('[^a-zA-Z 0-9]', '', sample)\n",
        "  return sample\n"
      ],
      "execution_count": 224,
      "outputs": []
    },
    {
      "cell_type": "code",
      "metadata": {
        "id": "a8zpp1mrZ91p",
        "colab_type": "code",
        "colab": {}
      },
      "source": [
        "shops['full_review_text'] = shops['full_review_text'].apply(clean)"
      ],
      "execution_count": 225,
      "outputs": []
    },
    {
      "cell_type": "code",
      "metadata": {
        "id": "56jGaXc_SETq",
        "colab_type": "code",
        "colab": {}
      },
      "source": [
        "# Spacy Raw Text Process sample Try \n",
        "sample = \"\"\"\n",
        "Natural Language Processing Summary\n",
        "The field of study that focuses on the interactions between human language and computers is called Natural Language Processing, or NLP for short. It sits at the intersection of computer science, artificial intelligence, and computational linguistics (Wikipedia).\n",
        "\n",
        "“Nat­ur­al Lan­guage Pro­cessing is a field that cov­ers com­puter un­der­stand­ing and ma­nip­u­la­tion of hu­man lan­guage, and it’s ripe with pos­sib­il­it­ies for news­gath­er­ing,” Anthony Pesce said in Natural Language Processing in the kitchen. “You usu­ally hear about it in the con­text of ana­lyz­ing large pools of legis­la­tion or other doc­u­ment sets, at­tempt­ing to dis­cov­er pat­terns or root out cor­rup­tion.”\n",
        "\"\"\"\n"
      ],
      "execution_count": 226,
      "outputs": []
    },
    {
      "cell_type": "code",
      "metadata": {
        "id": "0Lm2pAaKSET5",
        "colab_type": "code",
        "colab": {}
      },
      "source": [
        "doc = nlp(sample)"
      ],
      "execution_count": 227,
      "outputs": []
    },
    {
      "cell_type": "code",
      "metadata": {
        "id": "kp9SwTbfWGeN",
        "colab_type": "code",
        "colab": {
          "base_uri": "https://localhost:8080/",
          "height": 79
        },
        "outputId": "c61fb78e-c63a-41f1-8e6b-1488442b93bc"
      },
      "source": [
        "shops.head(1)"
      ],
      "execution_count": 228,
      "outputs": [
        {
          "output_type": "execute_result",
          "data": {
            "text/html": [
              "<div>\n",
              "<style scoped>\n",
              "    .dataframe tbody tr th:only-of-type {\n",
              "        vertical-align: middle;\n",
              "    }\n",
              "\n",
              "    .dataframe tbody tr th {\n",
              "        vertical-align: top;\n",
              "    }\n",
              "\n",
              "    .dataframe thead th {\n",
              "        text-align: right;\n",
              "    }\n",
              "</style>\n",
              "<table border=\"1\" class=\"dataframe\">\n",
              "  <thead>\n",
              "    <tr style=\"text-align: right;\">\n",
              "      <th></th>\n",
              "      <th>coffee_shop_name</th>\n",
              "      <th>full_review_text</th>\n",
              "      <th>star_rating</th>\n",
              "    </tr>\n",
              "  </thead>\n",
              "  <tbody>\n",
              "    <tr>\n",
              "      <th>0</th>\n",
              "      <td>The Factory - Cafe With a Soul</td>\n",
              "      <td>1 checkin Love love loved the atmosphere Ever...</td>\n",
              "      <td>5.0</td>\n",
              "    </tr>\n",
              "  </tbody>\n",
              "</table>\n",
              "</div>"
            ],
            "text/plain": [
              "                  coffee_shop_name  ... star_rating\n",
              "0  The Factory - Cafe With a Soul   ...         5.0\n",
              "\n",
              "[1 rows x 3 columns]"
            ]
          },
          "metadata": {
            "tags": []
          },
          "execution_count": 228
        }
      ]
    },
    {
      "cell_type": "code",
      "metadata": {
        "id": "_CBL0WuxSEUC",
        "colab_type": "code",
        "colab": {}
      },
      "source": [
        "tokens = []\n",
        "\n",
        "for doc in nlp.pipe(shops['full_review_text']):\n",
        "    \n",
        "    doc_tokens = []\n",
        "    \n",
        "    for token in doc: \n",
        "        \n",
        "        doc_tokens.append(token.text)\n",
        "    \n",
        "    tokens.append(doc_tokens)"
      ],
      "execution_count": 229,
      "outputs": []
    },
    {
      "cell_type": "code",
      "metadata": {
        "id": "X5CClPzbSEUO",
        "colab_type": "code",
        "colab": {
          "base_uri": "https://localhost:8080/",
          "height": 121
        },
        "outputId": "3440b943-c350-4c99-a7c5-316daeda0a36"
      },
      "source": [
        "shops['tokens'] = tokens\n",
        "shops['tokens'].tail()"
      ],
      "execution_count": 230,
      "outputs": [
        {
          "output_type": "execute_result",
          "data": {
            "text/plain": [
              "7611    [I, actually, step, into, this, restaurant, by...\n",
              "7612    [Ok, The, Steeping, Room, IS, awesome, How, do...\n",
              "7613    [Loved, coming, here, for, tea, and, the, atmo...\n",
              "7614    [he, food, is, just, average, The, booths, did...\n",
              "7615    [I, finally, stopped, in, for, lunch, with, my...\n",
              "Name: tokens, dtype: object"
            ]
          },
          "metadata": {
            "tags": []
          },
          "execution_count": 230
        }
      ]
    },
    {
      "cell_type": "code",
      "metadata": {
        "id": "e674T8EZWrSI",
        "colab_type": "code",
        "colab": {
          "base_uri": "https://localhost:8080/",
          "height": 121
        },
        "outputId": "3f96cda5-268d-4dc0-e4a3-39964e71805c"
      },
      "source": [
        "shops['tokens'].tail()"
      ],
      "execution_count": 231,
      "outputs": [
        {
          "output_type": "execute_result",
          "data": {
            "text/plain": [
              "7611    [I, actually, step, into, this, restaurant, by...\n",
              "7612    [Ok, The, Steeping, Room, IS, awesome, How, do...\n",
              "7613    [Loved, coming, here, for, tea, and, the, atmo...\n",
              "7614    [he, food, is, just, average, The, booths, did...\n",
              "7615    [I, finally, stopped, in, for, lunch, with, my...\n",
              "Name: tokens, dtype: object"
            ]
          },
          "metadata": {
            "tags": []
          },
          "execution_count": 231
        }
      ]
    },
    {
      "cell_type": "code",
      "metadata": {
        "id": "uagY6QVwXtlS",
        "colab_type": "code",
        "colab": {}
      },
      "source": [
        "# Count Function\n",
        "def count(docs):\n",
        "\n",
        "        word_counts = Counter()\n",
        "        appears_in = Counter()\n",
        "        \n",
        "        total_docs = len(docs)\n",
        "\n",
        "        for doc in docs:\n",
        "            word_counts.update(doc)\n",
        "            appears_in.update(set(doc))\n",
        "\n",
        "        temp = zip(word_counts.keys(), word_counts.values())\n",
        "        \n",
        "        wc = pd.DataFrame(temp, columns = ['word', 'count'])\n",
        "\n",
        "        wc['rank'] = wc['count'].rank(method='first', ascending=False)\n",
        "        total = wc['count'].sum()\n",
        "\n",
        "        wc['pct_total'] = wc['count'].apply(lambda x: x / total)\n",
        "        \n",
        "        wc = wc.sort_values(by='rank')\n",
        "        wc['cul_pct_total'] = wc['pct_total'].cumsum()\n",
        "\n",
        "        t2 = zip(appears_in.keys(), appears_in.values())\n",
        "        ac = pd.DataFrame(t2, columns=['word', 'appears_in'])\n",
        "        wc = ac.merge(wc, on='word')\n",
        "\n",
        "        wc['appears_in_pct'] = wc['appears_in'].apply(lambda x: x / total_docs)\n",
        "        \n",
        "        return wc.sort_values(by='rank')"
      ],
      "execution_count": 232,
      "outputs": []
    },
    {
      "cell_type": "code",
      "metadata": {
        "id": "g7GR4RdnYiao",
        "colab_type": "code",
        "colab": {
          "base_uri": "https://localhost:8080/",
          "height": 202
        },
        "outputId": "339829f4-6eb2-4078-969c-6268b4d228c9"
      },
      "source": [
        "wc = count(shops['tokens'])\n",
        "wc.head()"
      ],
      "execution_count": 233,
      "outputs": [
        {
          "output_type": "execute_result",
          "data": {
            "text/html": [
              "<div>\n",
              "<style scoped>\n",
              "    .dataframe tbody tr th:only-of-type {\n",
              "        vertical-align: middle;\n",
              "    }\n",
              "\n",
              "    .dataframe tbody tr th {\n",
              "        vertical-align: top;\n",
              "    }\n",
              "\n",
              "    .dataframe thead th {\n",
              "        text-align: right;\n",
              "    }\n",
              "</style>\n",
              "<table border=\"1\" class=\"dataframe\">\n",
              "  <thead>\n",
              "    <tr style=\"text-align: right;\">\n",
              "      <th></th>\n",
              "      <th>word</th>\n",
              "      <th>appears_in</th>\n",
              "      <th>count</th>\n",
              "      <th>rank</th>\n",
              "      <th>pct_total</th>\n",
              "      <th>cul_pct_total</th>\n",
              "      <th>appears_in_pct</th>\n",
              "    </tr>\n",
              "  </thead>\n",
              "  <tbody>\n",
              "    <tr>\n",
              "      <th>4</th>\n",
              "      <td>the</td>\n",
              "      <td>6521</td>\n",
              "      <td>27893</td>\n",
              "      <td>1.0</td>\n",
              "      <td>0.034550</td>\n",
              "      <td>0.034550</td>\n",
              "      <td>0.856224</td>\n",
              "    </tr>\n",
              "    <tr>\n",
              "      <th>67</th>\n",
              "      <td>and</td>\n",
              "      <td>6813</td>\n",
              "      <td>25913</td>\n",
              "      <td>2.0</td>\n",
              "      <td>0.032097</td>\n",
              "      <td>0.066647</td>\n",
              "      <td>0.894564</td>\n",
              "    </tr>\n",
              "    <tr>\n",
              "      <th>2</th>\n",
              "      <td>I</td>\n",
              "      <td>5778</td>\n",
              "      <td>23587</td>\n",
              "      <td>3.0</td>\n",
              "      <td>0.029216</td>\n",
              "      <td>0.095863</td>\n",
              "      <td>0.758666</td>\n",
              "    </tr>\n",
              "    <tr>\n",
              "      <th>33</th>\n",
              "      <td>a</td>\n",
              "      <td>6184</td>\n",
              "      <td>22133</td>\n",
              "      <td>4.0</td>\n",
              "      <td>0.027415</td>\n",
              "      <td>0.123279</td>\n",
              "      <td>0.811975</td>\n",
              "    </tr>\n",
              "    <tr>\n",
              "      <th>68</th>\n",
              "      <td></td>\n",
              "      <td>5633</td>\n",
              "      <td>20458</td>\n",
              "      <td>5.0</td>\n",
              "      <td>0.025340</td>\n",
              "      <td>0.148619</td>\n",
              "      <td>0.739627</td>\n",
              "    </tr>\n",
              "  </tbody>\n",
              "</table>\n",
              "</div>"
            ],
            "text/plain": [
              "   word  appears_in  count  rank  pct_total  cul_pct_total  appears_in_pct\n",
              "4   the        6521  27893   1.0   0.034550       0.034550        0.856224\n",
              "67  and        6813  25913   2.0   0.032097       0.066647        0.894564\n",
              "2     I        5778  23587   3.0   0.029216       0.095863        0.758666\n",
              "33    a        6184  22133   4.0   0.027415       0.123279        0.811975\n",
              "68             5633  20458   5.0   0.025340       0.148619        0.739627"
            ]
          },
          "metadata": {
            "tags": []
          },
          "execution_count": 233
        }
      ]
    },
    {
      "cell_type": "code",
      "metadata": {
        "id": "VNNjIwXxdzmZ",
        "colab_type": "code",
        "colab": {
          "base_uri": "https://localhost:8080/",
          "height": 248
        },
        "outputId": "eeab1621-7f23-4fcc-d616-9667a2577750"
      },
      "source": [
        "wc_top20 = wc[wc['rank'] <= 20]\n",
        "\n",
        "squarify.plot(sizes=wc_top20['pct_total'], label=wc_top20['word'], alpha=.8 )\n",
        "plt.axis('off')\n",
        "plt.show()"
      ],
      "execution_count": 234,
      "outputs": [
        {
          "output_type": "display_data",
          "data": {
            "image/png": "[encoded data removed]",
            "text/plain": [
              "<Figure size 432x288 with 1 Axes>"
            ]
          },
          "metadata": {
            "tags": [],
            "needs_background": "light"
          }
        }
      ]
    },
    {
      "cell_type": "code",
      "metadata": {
        "id": "yuFDvz8mfUX2",
        "colab_type": "code",
        "colab": {}
      },
      "source": [
        "tokens = []\n",
        "\n",
        "\"\"\" Update those tokens w/o stopwords\"\"\"\n",
        "for doc in nlp.pipe(shops['full_review_text'], batch_size=500):\n",
        "    \n",
        "    doc_tokens = []\n",
        "    \n",
        "    for token in doc:\n",
        "        if (token.is_stop == False) & (token.is_punct == False):\n",
        "            doc_tokens.append(token.text.lower())\n",
        "\n",
        "    tokens.append(doc_tokens)\n",
        "\n",
        "shops['tokens'] = tokens"
      ],
      "execution_count": 235,
      "outputs": []
    },
    {
      "cell_type": "code",
      "metadata": {
        "id": "lJrp1VT1gA0l",
        "colab_type": "code",
        "colab": {
          "base_uri": "https://localhost:8080/",
          "height": 248
        },
        "outputId": "9873a6e6-868d-4f55-f1a3-3b2c85a61680"
      },
      "source": [
        "wc = count(shops['tokens'])\n",
        "\n",
        "wc_top20 = wc[wc['rank'] <= 20]\n",
        "\n",
        "squarify.plot(sizes=wc_top20['pct_total'], label=wc_top20['word'], alpha=.8 )\n",
        "plt.axis('off')\n",
        "plt.show()"
      ],
      "execution_count": 236,
      "outputs": [
        {
          "output_type": "display_data",
          "data": {
            "image/png": "[encoded data removed]",
            "text/plain": [
              "<Figure size 432x288 with 1 Axes>"
            ]
          },
          "metadata": {
            "tags": [],
            "needs_background": "light"
          }
        }
      ]
    },
    {
      "cell_type": "code",
      "metadata": {
        "id": "2XxkE7NRgeCI",
        "colab_type": "code",
        "colab": {}
      },
      "source": [
        "STOP_WORDS = nlp.Defaults.stop_words.union(['I','in','you','place','nt','coffee','that','with','but','and','was','for','it','The','to','of','is','the','a',' ','check in'])"
      ],
      "execution_count": 237,
      "outputs": []
    },
    {
      "cell_type": "code",
      "metadata": {
        "id": "_YPiKFk9hTAz",
        "colab_type": "code",
        "colab": {}
      },
      "source": [
        "tokens = []\n",
        "\n",
        "for doc in nlp.pipe(shops['full_review_text'], batch_size=500):\n",
        "    \n",
        "    doc_tokens = []\n",
        "    \n",
        "    for token in doc: \n",
        "        if (token.is_punct == False) & (token.text.lower() not in STOP_WORDS):\n",
        "            doc_tokens.append(token.text.lower())\n",
        "   \n",
        "    tokens.append(doc_tokens)\n",
        "    \n",
        "shops['tokens'] = tokens"
      ],
      "execution_count": 238,
      "outputs": []
    },
    {
      "cell_type": "code",
      "metadata": {
        "id": "oHb8GKYAhz3q",
        "colab_type": "code",
        "colab": {
          "base_uri": "https://localhost:8080/",
          "height": 202
        },
        "outputId": "5b31a24a-bc96-4365-c9b8-e946dd0a8cd5"
      },
      "source": [
        "wc = count(shops['tokens'])\n",
        "wc.head()"
      ],
      "execution_count": 239,
      "outputs": [
        {
          "output_type": "execute_result",
          "data": {
            "text/html": [
              "<div>\n",
              "<style scoped>\n",
              "    .dataframe tbody tr th:only-of-type {\n",
              "        vertical-align: middle;\n",
              "    }\n",
              "\n",
              "    .dataframe tbody tr th {\n",
              "        vertical-align: top;\n",
              "    }\n",
              "\n",
              "    .dataframe thead th {\n",
              "        text-align: right;\n",
              "    }\n",
              "</style>\n",
              "<table border=\"1\" class=\"dataframe\">\n",
              "  <thead>\n",
              "    <tr style=\"text-align: right;\">\n",
              "      <th></th>\n",
              "      <th>word</th>\n",
              "      <th>appears_in</th>\n",
              "      <th>count</th>\n",
              "      <th>rank</th>\n",
              "      <th>pct_total</th>\n",
              "      <th>cul_pct_total</th>\n",
              "      <th>appears_in_pct</th>\n",
              "    </tr>\n",
              "  </thead>\n",
              "  <tbody>\n",
              "    <tr>\n",
              "      <th>168</th>\n",
              "      <td>good</td>\n",
              "      <td>2777</td>\n",
              "      <td>3958</td>\n",
              "      <td>1.0</td>\n",
              "      <td>0.011386</td>\n",
              "      <td>0.011386</td>\n",
              "      <td>0.364627</td>\n",
              "    </tr>\n",
              "    <tr>\n",
              "      <th>67</th>\n",
              "      <td>great</td>\n",
              "      <td>2807</td>\n",
              "      <td>3875</td>\n",
              "      <td>2.0</td>\n",
              "      <td>0.011148</td>\n",
              "      <td>0.022534</td>\n",
              "      <td>0.368566</td>\n",
              "    </tr>\n",
              "    <tr>\n",
              "      <th>167</th>\n",
              "      <td>like</td>\n",
              "      <td>2124</td>\n",
              "      <td>3088</td>\n",
              "      <td>3.0</td>\n",
              "      <td>0.008884</td>\n",
              "      <td>0.031418</td>\n",
              "      <td>0.278887</td>\n",
              "    </tr>\n",
              "    <tr>\n",
              "      <th>45</th>\n",
              "      <td>austin</td>\n",
              "      <td>1788</td>\n",
              "      <td>2252</td>\n",
              "      <td>4.0</td>\n",
              "      <td>0.006479</td>\n",
              "      <td>0.037896</td>\n",
              "      <td>0.234769</td>\n",
              "    </tr>\n",
              "    <tr>\n",
              "      <th>6</th>\n",
              "      <td>checkin</td>\n",
              "      <td>1960</td>\n",
              "      <td>1966</td>\n",
              "      <td>5.0</td>\n",
              "      <td>0.005656</td>\n",
              "      <td>0.043552</td>\n",
              "      <td>0.257353</td>\n",
              "    </tr>\n",
              "  </tbody>\n",
              "</table>\n",
              "</div>"
            ],
            "text/plain": [
              "        word  appears_in  count  rank  pct_total  cul_pct_total  appears_in_pct\n",
              "168     good        2777   3958   1.0   0.011386       0.011386        0.364627\n",
              "67     great        2807   3875   2.0   0.011148       0.022534        0.368566\n",
              "167     like        2124   3088   3.0   0.008884       0.031418        0.278887\n",
              "45    austin        1788   2252   4.0   0.006479       0.037896        0.234769\n",
              "6    checkin        1960   1966   5.0   0.005656       0.043552        0.257353"
            ]
          },
          "metadata": {
            "tags": []
          },
          "execution_count": 239
        }
      ]
    },
    {
      "cell_type": "code",
      "metadata": {
        "id": "inMOYoZ3iiRJ",
        "colab_type": "code",
        "colab": {
          "base_uri": "https://localhost:8080/",
          "height": 248
        },
        "outputId": "4d5a4c2d-02f9-45e1-a925-a05e394db87d"
      },
      "source": [
        "wc_top20 = wc[wc['rank'] <= 20]\n",
        "\n",
        "squarify.plot(sizes=wc_top20['pct_total'], label=wc_top20['word'], alpha=.8 )\n",
        "plt.axis('off')\n",
        "plt.show()"
      ],
      "execution_count": 240,
      "outputs": [
        {
          "output_type": "display_data",
          "data": {
            "image/png": "[encoded data removed]",
            "text/plain": [
              "<Figure size 432x288 with 1 Axes>"
            ]
          },
          "metadata": {
            "tags": [],
            "needs_background": "light"
          }
        }
      ]
    },
    {
      "cell_type": "code",
      "metadata": {
        "id": "SZZY6qs_jLj2",
        "colab_type": "code",
        "colab": {}
      },
      "source": [
        "def get_lemmas(text):\n",
        "  STOP_WORDS = nlp.Defaults.stop_words.union(['got','austin','s','ve','m','tea','latte','Austin','place','not','be','is','shop','i','in','you','place','nt','coffee','that','with','but','and','was','for','it','The','to','of','is','the','a',' ','check in'])\n",
        "  lemmas = []\n",
        "  doc = nlp(text)\n",
        "  for token in doc: \n",
        "    if ((token.text.lower() not in STOP_WORDS) and (token.is_punct == False)) and (token.pos_ != 'PRON'):\n",
        "      lemmas.append(token.lemma_)\n",
        "    \n",
        "  return lemmas"
      ],
      "execution_count": 293,
      "outputs": []
    },
    {
      "cell_type": "code",
      "metadata": {
        "id": "1M-71w9VjNmi",
        "colab_type": "code",
        "colab": {}
      },
      "source": [
        "shops['lemmas'] = shops['full_review_text'].apply(get_lemmas)"
      ],
      "execution_count": 242,
      "outputs": []
    },
    {
      "cell_type": "code",
      "metadata": {
        "id": "zaF7k3dEkjuj",
        "colab_type": "code",
        "colab": {
          "base_uri": "https://localhost:8080/",
          "height": 248
        },
        "outputId": "b5bffbe8-9d86-491d-d354-a2693edd9cad"
      },
      "source": [
        "wc = count(shops['lemmas'])\n",
        "wc_top20 = wc[wc['rank'] <= 20]\n",
        "\n",
        "squarify.plot(sizes=wc_top20['pct_total'], label=wc_top20['word'], alpha=.8 )\n",
        "plt.axis('off')\n",
        "plt.show()"
      ],
      "execution_count": 243,
      "outputs": [
        {
          "output_type": "display_data",
          "data": {
            "image/png": "[encoded data removed]",
            "text/plain": [
              "<Figure size 432x288 with 1 Axes>"
            ]
          },
          "metadata": {
            "tags": [],
            "needs_background": "light"
          }
        }
      ]
    },
    {
      "cell_type": "code",
      "metadata": {
        "id": "GRnGrYV4lpTX",
        "colab_type": "code",
        "colab": {}
      },
      "source": [
        "def remove_checkin(series):\n",
        "  if series[1] == 'checkin':\n",
        "    series = series[2:]\n",
        "  else:\n",
        "    series = series\n",
        "  return series"
      ],
      "execution_count": 244,
      "outputs": []
    },
    {
      "cell_type": "code",
      "metadata": {
        "id": "Ci1kEVXQpwh7",
        "colab_type": "code",
        "colab": {
          "base_uri": "https://localhost:8080/",
          "height": 225
        },
        "outputId": "79fbe8f2-ab3d-4e6e-9860-fdeddc020d89"
      },
      "source": [
        "shops['tokens'].apply(remove_checkin)"
      ],
      "execution_count": 245,
      "outputs": [
        {
          "output_type": "execute_result",
          "data": {
            "text/plain": [
              "0       [love, love, loved, atmosphere, corner, shop, ...\n",
              "1       [listed, date, night, austin, ambiance, austin...\n",
              "2       [listed, brunch, spots, loved, eclectic, homey...\n",
              "3       [cool, decor, good, drinks, nice, seating, ove...\n",
              "4       [located, northcross, mall, shopping, center, ...\n",
              "                              ...                        \n",
              "7611    [actually, step, restaurant, chance, favorites...\n",
              "7612    [ok, steeping, room, awesome, great, menu, ite...\n",
              "7613    [loved, coming, tea, atmosphere, pretty, fresh...\n",
              "7614    [food, average, booths, feel, clean, waitstaff...\n",
              "7615    [finally, stopped, lunch, colleague, m, glad, ...\n",
              "Name: tokens, Length: 7616, dtype: object"
            ]
          },
          "metadata": {
            "tags": []
          },
          "execution_count": 245
        }
      ]
    },
    {
      "cell_type": "code",
      "metadata": {
        "id": "Tjz992iqu4IW",
        "colab_type": "code",
        "colab": {}
      },
      "source": [
        "def fix_string(string):\n",
        "  string = string.split(' ',3)\n",
        "  if (string[2] == 'checkin') | (string[2] == 'checkins'):\n",
        "    return ' '.join(string[3:])\n",
        "  elif (string[1] == 'checkin') | (string[1] == 'checkins'):\n",
        "    return ' '.join(string[2:])\n",
        "  elif (string[0] == ''):\n",
        "    return ' '.join(string[1:])\n",
        "  else:\n",
        "    return ' '.join(string)\n",
        "  \n"
      ],
      "execution_count": 264,
      "outputs": []
    },
    {
      "cell_type": "code",
      "metadata": {
        "id": "-x14CvDKu9xF",
        "colab_type": "code",
        "colab": {
          "base_uri": "https://localhost:8080/",
          "height": 289
        },
        "outputId": "66c0044e-43b5-4d4b-f56d-722e52e1f31f"
      },
      "source": [
        "shops['full_review_text'] = shops['full_review_text'].apply(fix_string)\n",
        "shops.head()"
      ],
      "execution_count": 267,
      "outputs": [
        {
          "output_type": "execute_result",
          "data": {
            "text/html": [
              "<div>\n",
              "<style scoped>\n",
              "    .dataframe tbody tr th:only-of-type {\n",
              "        vertical-align: middle;\n",
              "    }\n",
              "\n",
              "    .dataframe tbody tr th {\n",
              "        vertical-align: top;\n",
              "    }\n",
              "\n",
              "    .dataframe thead th {\n",
              "        text-align: right;\n",
              "    }\n",
              "</style>\n",
              "<table border=\"1\" class=\"dataframe\">\n",
              "  <thead>\n",
              "    <tr style=\"text-align: right;\">\n",
              "      <th></th>\n",
              "      <th>coffee_shop_name</th>\n",
              "      <th>full_review_text</th>\n",
              "      <th>star_rating</th>\n",
              "      <th>tokens</th>\n",
              "      <th>lemmas</th>\n",
              "    </tr>\n",
              "  </thead>\n",
              "  <tbody>\n",
              "    <tr>\n",
              "      <th>0</th>\n",
              "      <td>The Factory - Cafe With a Soul</td>\n",
              "      <td>Love love loved the atmosphere Every corner of...</td>\n",
              "      <td>5.0</td>\n",
              "      <td>[1, checkin, love, love, loved, atmosphere, co...</td>\n",
              "      <td>[ , 1, checkin, Love, love, love, atmosphere, ...</td>\n",
              "    </tr>\n",
              "    <tr>\n",
              "      <th>1</th>\n",
              "      <td>The Factory - Cafe With a Soul</td>\n",
              "      <td>Listed in Date Night Austin Ambiance in Austin...</td>\n",
              "      <td>4.0</td>\n",
              "      <td>[listed, date, night, austin, ambiance, austin...</td>\n",
              "      <td>[list, Date, Night, Austin, Ambiance, Austin, ...</td>\n",
              "    </tr>\n",
              "    <tr>\n",
              "      <th>2</th>\n",
              "      <td>The Factory - Cafe With a Soul</td>\n",
              "      <td>Listed in Brunch Spots I loved the eclectic an...</td>\n",
              "      <td>4.0</td>\n",
              "      <td>[1, checkin, listed, brunch, spots, loved, ecl...</td>\n",
              "      <td>[ , 1, checkin, list, Brunch, Spots, love, ecl...</td>\n",
              "    </tr>\n",
              "    <tr>\n",
              "      <th>3</th>\n",
              "      <td>The Factory - Cafe With a Soul</td>\n",
              "      <td>Very cool decor Good drinks Nice seating  Howe...</td>\n",
              "      <td>2.0</td>\n",
              "      <td>[cool, decor, good, drinks, nice, seating, ove...</td>\n",
              "      <td>[ , cool, decor, good, drink, nice, seating,  ...</td>\n",
              "    </tr>\n",
              "    <tr>\n",
              "      <th>4</th>\n",
              "      <td>The Factory - Cafe With a Soul</td>\n",
              "      <td>They are located within the Northcross mall sh...</td>\n",
              "      <td>4.0</td>\n",
              "      <td>[1, checkin, located, northcross, mall, shoppi...</td>\n",
              "      <td>[1, checkin, locate, Northcross, mall, shoppin...</td>\n",
              "    </tr>\n",
              "  </tbody>\n",
              "</table>\n",
              "</div>"
            ],
            "text/plain": [
              "                  coffee_shop_name  ...                                             lemmas\n",
              "0  The Factory - Cafe With a Soul   ...  [ , 1, checkin, Love, love, love, atmosphere, ...\n",
              "1  The Factory - Cafe With a Soul   ...  [list, Date, Night, Austin, Ambiance, Austin, ...\n",
              "2  The Factory - Cafe With a Soul   ...  [ , 1, checkin, list, Brunch, Spots, love, ecl...\n",
              "3  The Factory - Cafe With a Soul   ...  [ , cool, decor, good, drink, nice, seating,  ...\n",
              "4  The Factory - Cafe With a Soul   ...  [1, checkin, locate, Northcross, mall, shoppin...\n",
              "\n",
              "[5 rows x 5 columns]"
            ]
          },
          "metadata": {
            "tags": []
          },
          "execution_count": 267
        }
      ]
    },
    {
      "cell_type": "code",
      "metadata": {
        "id": "WXBubFRl_HyJ",
        "colab_type": "code",
        "colab": {}
      },
      "source": [
        "#Stop words customs\n",
        "\n",
        "STOP_WORDS = nlp.Defaults.stop_words.union(['got','austin','s','ve','m','tea','latte','Austin','place','not','be','is','shop','i','in','you','place','nt','coffee','that','with','but','and','was','for','it','The','to','of','is','the','a',' ','check in'])"
      ],
      "execution_count": 289,
      "outputs": []
    },
    {
      "cell_type": "code",
      "metadata": {
        "id": "5Qk9adpNA6KF",
        "colab_type": "code",
        "colab": {}
      },
      "source": [
        "# Final Tokens with custom stopwords\n",
        "tokens = []\n",
        "\n",
        "for doc in nlp.pipe(shops['full_review_text'], batch_size=500):\n",
        "    \n",
        "    doc_tokens = []\n",
        "    \n",
        "    for token in doc: \n",
        "        if (token.is_punct == False) & (token.text.lower() not in STOP_WORDS):\n",
        "            doc_tokens.append(token.text.lower())\n",
        "   \n",
        "    tokens.append(doc_tokens)\n",
        "    \n",
        "shops['tokens'] = tokens"
      ],
      "execution_count": 281,
      "outputs": []
    },
    {
      "cell_type": "code",
      "metadata": {
        "id": "vPLh2G-aBk3D",
        "colab_type": "code",
        "colab": {
          "base_uri": "https://localhost:8080/",
          "height": 225
        },
        "outputId": "6b499636-2501-42d5-b52c-8a7fe2ce51c6"
      },
      "source": [
        "shops['tokens']"
      ],
      "execution_count": 284,
      "outputs": [
        {
          "output_type": "execute_result",
          "data": {
            "text/plain": [
              "0       [love, love, loved, atmosphere, corner, style,...\n",
              "1       [listed, date, night, ambiance, beautiful, lov...\n",
              "2       [listed, brunch, spots, loved, eclectic, homey...\n",
              "3       [cool, decor, good, drinks, nice, seating, ove...\n",
              "4       [located, northcross, mall, shopping, center, ...\n",
              "                              ...                        \n",
              "7611    [actually, step, restaurant, chance, favorites...\n",
              "7612    [ok, steeping, room, awesome, great, menu, ite...\n",
              "7613    [loved, coming, atmosphere, pretty, fresh, ord...\n",
              "7614    [food, average, booths, feel, clean, waitstaff...\n",
              "7615    [finally, stopped, lunch, colleague, glad, del...\n",
              "Name: tokens, Length: 7616, dtype: object"
            ]
          },
          "metadata": {
            "tags": []
          },
          "execution_count": 284
        }
      ]
    },
    {
      "cell_type": "code",
      "metadata": {
        "id": "cv1tuTCGC5LD",
        "colab_type": "code",
        "colab": {
          "base_uri": "https://localhost:8080/",
          "height": 202
        },
        "outputId": "36ef4e05-f1c1-4f12-f174-1ee6dfddf15b"
      },
      "source": [
        "wc = count(shops['tokens'])\n",
        "wc.head()"
      ],
      "execution_count": 285,
      "outputs": [
        {
          "output_type": "execute_result",
          "data": {
            "text/html": [
              "<div>\n",
              "<style scoped>\n",
              "    .dataframe tbody tr th:only-of-type {\n",
              "        vertical-align: middle;\n",
              "    }\n",
              "\n",
              "    .dataframe tbody tr th {\n",
              "        vertical-align: top;\n",
              "    }\n",
              "\n",
              "    .dataframe thead th {\n",
              "        text-align: right;\n",
              "    }\n",
              "</style>\n",
              "<table border=\"1\" class=\"dataframe\">\n",
              "  <thead>\n",
              "    <tr style=\"text-align: right;\">\n",
              "      <th></th>\n",
              "      <th>word</th>\n",
              "      <th>appears_in</th>\n",
              "      <th>count</th>\n",
              "      <th>rank</th>\n",
              "      <th>pct_total</th>\n",
              "      <th>cul_pct_total</th>\n",
              "      <th>appears_in_pct</th>\n",
              "    </tr>\n",
              "  </thead>\n",
              "  <tbody>\n",
              "    <tr>\n",
              "      <th>162</th>\n",
              "      <td>good</td>\n",
              "      <td>2777</td>\n",
              "      <td>3958</td>\n",
              "      <td>1.0</td>\n",
              "      <td>0.011976</td>\n",
              "      <td>0.011976</td>\n",
              "      <td>0.364627</td>\n",
              "    </tr>\n",
              "    <tr>\n",
              "      <th>62</th>\n",
              "      <td>great</td>\n",
              "      <td>2807</td>\n",
              "      <td>3875</td>\n",
              "      <td>2.0</td>\n",
              "      <td>0.011725</td>\n",
              "      <td>0.023702</td>\n",
              "      <td>0.368566</td>\n",
              "    </tr>\n",
              "    <tr>\n",
              "      <th>161</th>\n",
              "      <td>like</td>\n",
              "      <td>2124</td>\n",
              "      <td>3088</td>\n",
              "      <td>3.0</td>\n",
              "      <td>0.009344</td>\n",
              "      <td>0.033045</td>\n",
              "      <td>0.278887</td>\n",
              "    </tr>\n",
              "    <tr>\n",
              "      <th>9</th>\n",
              "      <td>love</td>\n",
              "      <td>1494</td>\n",
              "      <td>1926</td>\n",
              "      <td>4.0</td>\n",
              "      <td>0.005828</td>\n",
              "      <td>0.038873</td>\n",
              "      <td>0.196166</td>\n",
              "    </tr>\n",
              "    <tr>\n",
              "      <th>487</th>\n",
              "      <td>time</td>\n",
              "      <td>1469</td>\n",
              "      <td>1884</td>\n",
              "      <td>5.0</td>\n",
              "      <td>0.005701</td>\n",
              "      <td>0.044574</td>\n",
              "      <td>0.192883</td>\n",
              "    </tr>\n",
              "  </tbody>\n",
              "</table>\n",
              "</div>"
            ],
            "text/plain": [
              "      word  appears_in  count  rank  pct_total  cul_pct_total  appears_in_pct\n",
              "162   good        2777   3958   1.0   0.011976       0.011976        0.364627\n",
              "62   great        2807   3875   2.0   0.011725       0.023702        0.368566\n",
              "161   like        2124   3088   3.0   0.009344       0.033045        0.278887\n",
              "9     love        1494   1926   4.0   0.005828       0.038873        0.196166\n",
              "487   time        1469   1884   5.0   0.005701       0.044574        0.192883"
            ]
          },
          "metadata": {
            "tags": []
          },
          "execution_count": 285
        }
      ]
    },
    {
      "cell_type": "code",
      "metadata": {
        "id": "ru3A05rEA_1T",
        "colab_type": "code",
        "colab": {
          "base_uri": "https://localhost:8080/",
          "height": 248
        },
        "outputId": "8d713a05-fafc-455d-a583-e9169954813a"
      },
      "source": [
        "wc = count(shops['tokens'])\n",
        "wc.head()\n",
        "wc_top20 = wc[wc['rank'] <= 20]\n",
        "\n",
        "squarify.plot(sizes=wc_top20['pct_total'], label=wc_top20['word'], alpha=.8 )\n",
        "plt.axis('off')\n",
        "plt.show()"
      ],
      "execution_count": 286,
      "outputs": [
        {
          "output_type": "display_data",
          "data": {
            "image/png": "[encoded data removed]",
            "text/plain": [
              "<Figure size 432x288 with 1 Axes>"
            ]
          },
          "metadata": {
            "tags": [],
            "needs_background": "light"
          }
        }
      ]
    },
    {
      "cell_type": "code",
      "metadata": {
        "id": "f8owcXsLEpYV",
        "colab_type": "code",
        "colab": {}
      },
      "source": [
        "#Good Lemmas\n",
        "shops['lemmas'] = shops['full_review_text'].apply(get_lemmas)"
      ],
      "execution_count": 294,
      "outputs": []
    },
    {
      "cell_type": "code",
      "metadata": {
        "id": "1hiGY9KwEwhN",
        "colab_type": "code",
        "colab": {
          "base_uri": "https://localhost:8080/",
          "height": 248
        },
        "outputId": "81863ac1-2ab4-4a42-e556-a74ca2ddb55d"
      },
      "source": [
        "wc = count(shops['lemmas'])\n",
        "wc_top20 = wc[wc['rank'] <= 20]\n",
        "\n",
        "squarify.plot(sizes=wc_top20['pct_total'], label=wc_top20['word'], alpha=.8 )\n",
        "plt.axis('off')\n",
        "plt.show()"
      ],
      "execution_count": 295,
      "outputs": [
        {
          "output_type": "display_data",
          "data": {
            "image/png": "[encoded data removed]",
            "text/plain": [
              "<Figure size 432x288 with 1 Axes>"
            ]
          },
          "metadata": {
            "tags": [],
            "needs_background": "light"
          }
        }
      ]
    },
    {
      "cell_type": "markdown",
      "metadata": {
        "id": "gbOfz-wSSEUe",
        "colab_type": "text"
      },
      "source": [
        "## How do we want to analyze these coffee shop tokens? \n",
        "\n",
        "- Overall Word / Token Count\n",
        "- View Counts by Rating \n",
        "- *Hint:* a 'bad' coffee shops has a rating betweeen 1 & 3 based on the distribution of ratings. A 'good' coffee shop is a 4 or 5. "
      ]
    },
    {
      "cell_type": "code",
      "metadata": {
        "id": "WJ-dQcZOSEUm",
        "colab_type": "code",
        "colab": {
          "base_uri": "https://localhost:8080/",
          "height": 202
        },
        "outputId": "717d805e-42a9-44ed-bee9-53a8bb0c26a4"
      },
      "source": [
        "# Overall word Count \n",
        "wc_overall = count(shops['lemmas'])\n",
        "wc_overall.head()\n"
      ],
      "execution_count": 296,
      "outputs": [
        {
          "output_type": "execute_result",
          "data": {
            "text/html": [
              "<div>\n",
              "<style scoped>\n",
              "    .dataframe tbody tr th:only-of-type {\n",
              "        vertical-align: middle;\n",
              "    }\n",
              "\n",
              "    .dataframe tbody tr th {\n",
              "        vertical-align: top;\n",
              "    }\n",
              "\n",
              "    .dataframe thead th {\n",
              "        text-align: right;\n",
              "    }\n",
              "</style>\n",
              "<table border=\"1\" class=\"dataframe\">\n",
              "  <thead>\n",
              "    <tr style=\"text-align: right;\">\n",
              "      <th></th>\n",
              "      <th>word</th>\n",
              "      <th>appears_in</th>\n",
              "      <th>count</th>\n",
              "      <th>rank</th>\n",
              "      <th>pct_total</th>\n",
              "      <th>cul_pct_total</th>\n",
              "      <th>appears_in_pct</th>\n",
              "    </tr>\n",
              "  </thead>\n",
              "  <tbody>\n",
              "    <tr>\n",
              "      <th>162</th>\n",
              "      <td>good</td>\n",
              "      <td>3530</td>\n",
              "      <td>5239</td>\n",
              "      <td>1.0</td>\n",
              "      <td>0.015926</td>\n",
              "      <td>0.015926</td>\n",
              "      <td>0.463498</td>\n",
              "    </tr>\n",
              "    <tr>\n",
              "      <th>59</th>\n",
              "      <td>great</td>\n",
              "      <td>2796</td>\n",
              "      <td>3848</td>\n",
              "      <td>2.0</td>\n",
              "      <td>0.011697</td>\n",
              "      <td>0.027623</td>\n",
              "      <td>0.367122</td>\n",
              "    </tr>\n",
              "    <tr>\n",
              "      <th>161</th>\n",
              "      <td>like</td>\n",
              "      <td>2259</td>\n",
              "      <td>3351</td>\n",
              "      <td>3.0</td>\n",
              "      <td>0.010187</td>\n",
              "      <td>0.037810</td>\n",
              "      <td>0.296612</td>\n",
              "    </tr>\n",
              "    <tr>\n",
              "      <th>447</th>\n",
              "      <td>come</td>\n",
              "      <td>1924</td>\n",
              "      <td>2622</td>\n",
              "      <td>4.0</td>\n",
              "      <td>0.007970</td>\n",
              "      <td>0.045780</td>\n",
              "      <td>0.252626</td>\n",
              "    </tr>\n",
              "    <tr>\n",
              "      <th>477</th>\n",
              "      <td>time</td>\n",
              "      <td>1741</td>\n",
              "      <td>2353</td>\n",
              "      <td>5.0</td>\n",
              "      <td>0.007153</td>\n",
              "      <td>0.052933</td>\n",
              "      <td>0.228598</td>\n",
              "    </tr>\n",
              "  </tbody>\n",
              "</table>\n",
              "</div>"
            ],
            "text/plain": [
              "      word  appears_in  count  rank  pct_total  cul_pct_total  appears_in_pct\n",
              "162   good        3530   5239   1.0   0.015926       0.015926        0.463498\n",
              "59   great        2796   3848   2.0   0.011697       0.027623        0.367122\n",
              "161   like        2259   3351   3.0   0.010187       0.037810        0.296612\n",
              "447   come        1924   2622   4.0   0.007970       0.045780        0.252626\n",
              "477   time        1741   2353   5.0   0.007153       0.052933        0.228598"
            ]
          },
          "metadata": {
            "tags": []
          },
          "execution_count": 296
        }
      ]
    },
    {
      "cell_type": "markdown",
      "metadata": {
        "id": "f5Pe2-asH7wY",
        "colab_type": "text"
      },
      "source": [
        "# Counts by ratings"
      ]
    },
    {
      "cell_type": "code",
      "metadata": {
        "id": "YH049qcAH-I0",
        "colab_type": "code",
        "colab": {}
      },
      "source": [
        "bad_shops = shops[shops['star_rating'] <= 3]\n",
        "good_shops = shops[shops['star_rating'] > 3]\n"
      ],
      "execution_count": 301,
      "outputs": []
    },
    {
      "cell_type": "code",
      "metadata": {
        "id": "LMYAtJbgJ4AP",
        "colab_type": "code",
        "colab": {
          "base_uri": "https://localhost:8080/",
          "height": 289
        },
        "outputId": "ffd53110-4332-43ce-e72b-ea9761401b15"
      },
      "source": [
        "good_shops.head()"
      ],
      "execution_count": 302,
      "outputs": [
        {
          "output_type": "execute_result",
          "data": {
            "text/html": [
              "<div>\n",
              "<style scoped>\n",
              "    .dataframe tbody tr th:only-of-type {\n",
              "        vertical-align: middle;\n",
              "    }\n",
              "\n",
              "    .dataframe tbody tr th {\n",
              "        vertical-align: top;\n",
              "    }\n",
              "\n",
              "    .dataframe thead th {\n",
              "        text-align: right;\n",
              "    }\n",
              "</style>\n",
              "<table border=\"1\" class=\"dataframe\">\n",
              "  <thead>\n",
              "    <tr style=\"text-align: right;\">\n",
              "      <th></th>\n",
              "      <th>coffee_shop_name</th>\n",
              "      <th>full_review_text</th>\n",
              "      <th>star_rating</th>\n",
              "      <th>tokens</th>\n",
              "      <th>lemmas</th>\n",
              "    </tr>\n",
              "  </thead>\n",
              "  <tbody>\n",
              "    <tr>\n",
              "      <th>0</th>\n",
              "      <td>The Factory - Cafe With a Soul</td>\n",
              "      <td>Love love loved the atmosphere Every corner of...</td>\n",
              "      <td>5.0</td>\n",
              "      <td>[love, love, loved, atmosphere, corner, style,...</td>\n",
              "      <td>[love, love, love, atmosphere, corner, style, ...</td>\n",
              "    </tr>\n",
              "    <tr>\n",
              "      <th>1</th>\n",
              "      <td>The Factory - Cafe With a Soul</td>\n",
              "      <td>Listed in Date Night Austin Ambiance in Austin...</td>\n",
              "      <td>4.0</td>\n",
              "      <td>[listed, date, night, ambiance, beautiful, lov...</td>\n",
              "      <td>[list, Date, Night, Ambiance, BEAUTIFUL, love,...</td>\n",
              "    </tr>\n",
              "    <tr>\n",
              "      <th>2</th>\n",
              "      <td>The Factory - Cafe With a Soul</td>\n",
              "      <td>Listed in Brunch Spots I loved the eclectic an...</td>\n",
              "      <td>4.0</td>\n",
              "      <td>[listed, brunch, spots, loved, eclectic, homey...</td>\n",
              "      <td>[list, Brunch, Spots, love, eclectic, homey, p...</td>\n",
              "    </tr>\n",
              "    <tr>\n",
              "      <th>4</th>\n",
              "      <td>The Factory - Cafe With a Soul</td>\n",
              "      <td>They are located within the Northcross mall sh...</td>\n",
              "      <td>4.0</td>\n",
              "      <td>[located, northcross, mall, shopping, center, ...</td>\n",
              "      <td>[locate, Northcross, mall, shopping, center, f...</td>\n",
              "    </tr>\n",
              "    <tr>\n",
              "      <th>5</th>\n",
              "      <td>The Factory - Cafe With a Soul</td>\n",
              "      <td>Very cute cafe I think from the moment I stepp...</td>\n",
              "      <td>4.0</td>\n",
              "      <td>[cute, cafe, think, moment, stepped, find, cut...</td>\n",
              "      <td>[cute, cafe, think, moment, step, find, cute, ...</td>\n",
              "    </tr>\n",
              "  </tbody>\n",
              "</table>\n",
              "</div>"
            ],
            "text/plain": [
              "                  coffee_shop_name  ...                                             lemmas\n",
              "0  The Factory - Cafe With a Soul   ...  [love, love, love, atmosphere, corner, style, ...\n",
              "1  The Factory - Cafe With a Soul   ...  [list, Date, Night, Ambiance, BEAUTIFUL, love,...\n",
              "2  The Factory - Cafe With a Soul   ...  [list, Brunch, Spots, love, eclectic, homey, p...\n",
              "4  The Factory - Cafe With a Soul   ...  [locate, Northcross, mall, shopping, center, f...\n",
              "5  The Factory - Cafe With a Soul   ...  [cute, cafe, think, moment, step, find, cute, ...\n",
              "\n",
              "[5 rows x 5 columns]"
            ]
          },
          "metadata": {
            "tags": []
          },
          "execution_count": 302
        }
      ]
    },
    {
      "cell_type": "code",
      "metadata": {
        "id": "AD99rKSzJ7Pi",
        "colab_type": "code",
        "colab": {
          "base_uri": "https://localhost:8080/",
          "height": 589
        },
        "outputId": "fa77997e-2038-42a1-92db-0069dcda8ab9"
      },
      "source": [
        "bad_shops"
      ],
      "execution_count": 303,
      "outputs": [
        {
          "output_type": "execute_result",
          "data": {
            "text/html": [
              "<div>\n",
              "<style scoped>\n",
              "    .dataframe tbody tr th:only-of-type {\n",
              "        vertical-align: middle;\n",
              "    }\n",
              "\n",
              "    .dataframe tbody tr th {\n",
              "        vertical-align: top;\n",
              "    }\n",
              "\n",
              "    .dataframe thead th {\n",
              "        text-align: right;\n",
              "    }\n",
              "</style>\n",
              "<table border=\"1\" class=\"dataframe\">\n",
              "  <thead>\n",
              "    <tr style=\"text-align: right;\">\n",
              "      <th></th>\n",
              "      <th>coffee_shop_name</th>\n",
              "      <th>full_review_text</th>\n",
              "      <th>star_rating</th>\n",
              "      <th>tokens</th>\n",
              "      <th>lemmas</th>\n",
              "    </tr>\n",
              "  </thead>\n",
              "  <tbody>\n",
              "    <tr>\n",
              "      <th>3</th>\n",
              "      <td>The Factory - Cafe With a Soul</td>\n",
              "      <td>Very cool decor Good drinks Nice seating  Howe...</td>\n",
              "      <td>2.0</td>\n",
              "      <td>[cool, decor, good, drinks, nice, seating, ove...</td>\n",
              "      <td>[cool, decor, good, drink, nice, seating, over...</td>\n",
              "    </tr>\n",
              "    <tr>\n",
              "      <th>8</th>\n",
              "      <td>The Factory - Cafe With a Soul</td>\n",
              "      <td>Ok lets try this approach  Pros Music Seating ...</td>\n",
              "      <td>3.0</td>\n",
              "      <td>[ok, lets, try, approach, pros, music, seating...</td>\n",
              "      <td>[ok, let, try, approach, Pros, music, Seating,...</td>\n",
              "    </tr>\n",
              "    <tr>\n",
              "      <th>11</th>\n",
              "      <td>The Factory - Cafe With a Soul</td>\n",
              "      <td>The store has A decoration but honestly the co...</td>\n",
              "      <td>3.0</td>\n",
              "      <td>[store, decoration, honestly, good, surroundin...</td>\n",
              "      <td>[store, decoration, honestly, good, surround, ...</td>\n",
              "    </tr>\n",
              "    <tr>\n",
              "      <th>12</th>\n",
              "      <td>The Factory - Cafe With a Soul</td>\n",
              "      <td>Listed in 2016  The Third Time is a Charm The ...</td>\n",
              "      <td>3.0</td>\n",
              "      <td>[listed, 2016, time, charm, factory, decor, in...</td>\n",
              "      <td>[list, 2016, Time, Charm, Factory, decor, inno...</td>\n",
              "    </tr>\n",
              "    <tr>\n",
              "      <th>25</th>\n",
              "      <td>The Factory - Cafe With a Soul</td>\n",
              "      <td>Okay so after visiting my friends in LA and tr...</td>\n",
              "      <td>1.0</td>\n",
              "      <td>[okay, visiting, friends, la, trying, mint, mo...</td>\n",
              "      <td>[okay, visit, friend, LA, try, mint, mojito, i...</td>\n",
              "    </tr>\n",
              "    <tr>\n",
              "      <th>...</th>\n",
              "      <td>...</td>\n",
              "      <td>...</td>\n",
              "      <td>...</td>\n",
              "      <td>...</td>\n",
              "      <td>...</td>\n",
              "    </tr>\n",
              "    <tr>\n",
              "      <th>7582</th>\n",
              "      <td>The Steeping Room</td>\n",
              "      <td>I should probably give this spot 4 stars but t...</td>\n",
              "      <td>3.0</td>\n",
              "      <td>[probably, spot, 4, stars, main, dish, underwh...</td>\n",
              "      <td>[probably, spot, 4, star, main, dish, underwhe...</td>\n",
              "    </tr>\n",
              "    <tr>\n",
              "      <th>7583</th>\n",
              "      <td>The Steeping Room</td>\n",
              "      <td>Its a lovely little tea and pastry shop but th...</td>\n",
              "      <td>2.0</td>\n",
              "      <td>[lovely, little, pastry, service, continuously...</td>\n",
              "      <td>[lovely, little, pastry, service, continuously...</td>\n",
              "    </tr>\n",
              "    <tr>\n",
              "      <th>7590</th>\n",
              "      <td>The Steeping Room</td>\n",
              "      <td>So today I tried this place I have been in Aus...</td>\n",
              "      <td>3.0</td>\n",
              "      <td>[today, tried, september, list, let, start, en...</td>\n",
              "      <td>[today, try, September, list, let, start, entr...</td>\n",
              "    </tr>\n",
              "    <tr>\n",
              "      <th>7600</th>\n",
              "      <td>The Steeping Room</td>\n",
              "      <td>Great service with unimaginative and uneventfu...</td>\n",
              "      <td>2.0</td>\n",
              "      <td>[great, service, unimaginative, uneventful, fo...</td>\n",
              "      <td>[great, service, unimaginative, uneventful, fo...</td>\n",
              "    </tr>\n",
              "    <tr>\n",
              "      <th>7614</th>\n",
              "      <td>The Steeping Room</td>\n",
              "      <td>he food is just average The booths didnt feel ...</td>\n",
              "      <td>3.0</td>\n",
              "      <td>[food, average, booths, feel, clean, waitstaff...</td>\n",
              "      <td>[food, average, booth, feel, clean, waitstaff,...</td>\n",
              "    </tr>\n",
              "  </tbody>\n",
              "</table>\n",
              "<p>1476 rows × 5 columns</p>\n",
              "</div>"
            ],
            "text/plain": [
              "                     coffee_shop_name  ...                                             lemmas\n",
              "3     The Factory - Cafe With a Soul   ...  [cool, decor, good, drink, nice, seating, over...\n",
              "8     The Factory - Cafe With a Soul   ...  [ok, let, try, approach, Pros, music, Seating,...\n",
              "11    The Factory - Cafe With a Soul   ...  [store, decoration, honestly, good, surround, ...\n",
              "12    The Factory - Cafe With a Soul   ...  [list, 2016, Time, Charm, Factory, decor, inno...\n",
              "25    The Factory - Cafe With a Soul   ...  [okay, visit, friend, LA, try, mint, mojito, i...\n",
              "...                               ...  ...                                                ...\n",
              "7582               The Steeping Room   ...  [probably, spot, 4, star, main, dish, underwhe...\n",
              "7583               The Steeping Room   ...  [lovely, little, pastry, service, continuously...\n",
              "7590               The Steeping Room   ...  [today, try, September, list, let, start, entr...\n",
              "7600               The Steeping Room   ...  [great, service, unimaginative, uneventful, fo...\n",
              "7614               The Steeping Room   ...  [food, average, booth, feel, clean, waitstaff,...\n",
              "\n",
              "[1476 rows x 5 columns]"
            ]
          },
          "metadata": {
            "tags": []
          },
          "execution_count": 303
        }
      ]
    },
    {
      "cell_type": "code",
      "metadata": {
        "id": "N0ktndQVLDEL",
        "colab_type": "code",
        "colab": {}
      },
      "source": [
        "wc_good = count(good_shops['lemmas'])\n",
        "wc_bad = count(bad_shops['lemmas'])\n",
        "top20_good = wc_good[wc_good['rank'] <=20]\n",
        "top20_bad = wc_bad[wc_bad['rank'] <=20]"
      ],
      "execution_count": 304,
      "outputs": []
    },
    {
      "cell_type": "code",
      "metadata": {
        "id": "P1MxVyLULoAk",
        "colab_type": "code",
        "colab": {
          "base_uri": "https://localhost:8080/",
          "height": 248
        },
        "outputId": "58b70d0b-6c94-4f25-cf00-d76b934092ea"
      },
      "source": [
        "#Top 20 'good' ratings\n",
        "squarify.plot(sizes=top20_good['pct_total'], label=top20_good['word'], alpha=.8 )\n",
        "plt.axis('off')\n",
        "plt.show()"
      ],
      "execution_count": 306,
      "outputs": [
        {
          "output_type": "display_data",
          "data": {
            "image/png": "[encoded data removed]",
            "text/plain": [
              "<Figure size 432x288 with 1 Axes>"
            ]
          },
          "metadata": {
            "tags": [],
            "needs_background": "light"
          }
        }
      ]
    },
    {
      "cell_type": "code",
      "metadata": {
        "id": "29_34fHRMO0S",
        "colab_type": "code",
        "colab": {
          "base_uri": "https://localhost:8080/",
          "height": 248
        },
        "outputId": "ccd2404a-36d2-4edc-fa3a-3cd15874487f"
      },
      "source": [
        "#Top 20 'bad' ratings\n",
        "squarify.plot(sizes=top20_bad['pct_total'], label=top20_bad['word'], alpha=.8 )\n",
        "plt.axis('off')\n",
        "plt.show()"
      ],
      "execution_count": 307,
      "outputs": [
        {
          "output_type": "display_data",
          "data": {
            "image/png": "[encoded data removed]",
            "text/plain": [
              "<Figure size 432x288 with 1 Axes>"
            ]
          },
          "metadata": {
            "tags": [],
            "needs_background": "light"
          }
        }
      ]
    },
    {
      "cell_type": "code",
      "metadata": {
        "id": "zaN3NNOmNw2q",
        "colab_type": "code",
        "colab": {
          "base_uri": "https://localhost:8080/",
          "height": 662
        },
        "outputId": "52ff82ad-2e4b-4f14-d148-25f80c50fc2d"
      },
      "source": [
        "top20_good"
      ],
      "execution_count": 309,
      "outputs": [
        {
          "output_type": "execute_result",
          "data": {
            "text/html": [
              "<div>\n",
              "<style scoped>\n",
              "    .dataframe tbody tr th:only-of-type {\n",
              "        vertical-align: middle;\n",
              "    }\n",
              "\n",
              "    .dataframe tbody tr th {\n",
              "        vertical-align: top;\n",
              "    }\n",
              "\n",
              "    .dataframe thead th {\n",
              "        text-align: right;\n",
              "    }\n",
              "</style>\n",
              "<table border=\"1\" class=\"dataframe\">\n",
              "  <thead>\n",
              "    <tr style=\"text-align: right;\">\n",
              "      <th></th>\n",
              "      <th>word</th>\n",
              "      <th>appears_in</th>\n",
              "      <th>count</th>\n",
              "      <th>rank</th>\n",
              "      <th>pct_total</th>\n",
              "      <th>cul_pct_total</th>\n",
              "      <th>appears_in_pct</th>\n",
              "    </tr>\n",
              "  </thead>\n",
              "  <tbody>\n",
              "    <tr>\n",
              "      <th>173</th>\n",
              "      <td>good</td>\n",
              "      <td>2885</td>\n",
              "      <td>4251</td>\n",
              "      <td>1.0</td>\n",
              "      <td>0.016612</td>\n",
              "      <td>0.016612</td>\n",
              "      <td>0.469870</td>\n",
              "    </tr>\n",
              "    <tr>\n",
              "      <th>59</th>\n",
              "      <td>great</td>\n",
              "      <td>2450</td>\n",
              "      <td>3385</td>\n",
              "      <td>2.0</td>\n",
              "      <td>0.013228</td>\n",
              "      <td>0.029839</td>\n",
              "      <td>0.399023</td>\n",
              "    </tr>\n",
              "    <tr>\n",
              "      <th>199</th>\n",
              "      <td>like</td>\n",
              "      <td>1668</td>\n",
              "      <td>2414</td>\n",
              "      <td>3.0</td>\n",
              "      <td>0.009433</td>\n",
              "      <td>0.039273</td>\n",
              "      <td>0.271661</td>\n",
              "    </tr>\n",
              "    <tr>\n",
              "      <th>6</th>\n",
              "      <td>love</td>\n",
              "      <td>1565</td>\n",
              "      <td>2042</td>\n",
              "      <td>4.0</td>\n",
              "      <td>0.007980</td>\n",
              "      <td>0.047252</td>\n",
              "      <td>0.254886</td>\n",
              "    </tr>\n",
              "    <tr>\n",
              "      <th>367</th>\n",
              "      <td>come</td>\n",
              "      <td>1473</td>\n",
              "      <td>1973</td>\n",
              "      <td>5.0</td>\n",
              "      <td>0.007710</td>\n",
              "      <td>0.054962</td>\n",
              "      <td>0.239902</td>\n",
              "    </tr>\n",
              "    <tr>\n",
              "      <th>369</th>\n",
              "      <td>time</td>\n",
              "      <td>1326</td>\n",
              "      <td>1753</td>\n",
              "      <td>6.0</td>\n",
              "      <td>0.006850</td>\n",
              "      <td>0.061812</td>\n",
              "      <td>0.215961</td>\n",
              "    </tr>\n",
              "    <tr>\n",
              "      <th>112</th>\n",
              "      <td>try</td>\n",
              "      <td>1326</td>\n",
              "      <td>1702</td>\n",
              "      <td>7.0</td>\n",
              "      <td>0.006651</td>\n",
              "      <td>0.068463</td>\n",
              "      <td>0.215961</td>\n",
              "    </tr>\n",
              "    <tr>\n",
              "      <th>9</th>\n",
              "      <td>drink</td>\n",
              "      <td>1254</td>\n",
              "      <td>1697</td>\n",
              "      <td>8.0</td>\n",
              "      <td>0.006631</td>\n",
              "      <td>0.075095</td>\n",
              "      <td>0.204235</td>\n",
              "    </tr>\n",
              "    <tr>\n",
              "      <th>150</th>\n",
              "      <td>friendly</td>\n",
              "      <td>1404</td>\n",
              "      <td>1469</td>\n",
              "      <td>9.0</td>\n",
              "      <td>0.005740</td>\n",
              "      <td>0.080835</td>\n",
              "      <td>0.228664</td>\n",
              "    </tr>\n",
              "    <tr>\n",
              "      <th>522</th>\n",
              "      <td>work</td>\n",
              "      <td>1152</td>\n",
              "      <td>1460</td>\n",
              "      <td>10.0</td>\n",
              "      <td>0.005705</td>\n",
              "      <td>0.086541</td>\n",
              "      <td>0.187622</td>\n",
              "    </tr>\n",
              "    <tr>\n",
              "      <th>53</th>\n",
              "      <td>nice</td>\n",
              "      <td>1174</td>\n",
              "      <td>1380</td>\n",
              "      <td>11.0</td>\n",
              "      <td>0.005393</td>\n",
              "      <td>0.091933</td>\n",
              "      <td>0.191205</td>\n",
              "    </tr>\n",
              "    <tr>\n",
              "      <th>23</th>\n",
              "      <td>order</td>\n",
              "      <td>1020</td>\n",
              "      <td>1370</td>\n",
              "      <td>12.0</td>\n",
              "      <td>0.005354</td>\n",
              "      <td>0.097287</td>\n",
              "      <td>0.166124</td>\n",
              "    </tr>\n",
              "    <tr>\n",
              "      <th>341</th>\n",
              "      <td>food</td>\n",
              "      <td>1040</td>\n",
              "      <td>1340</td>\n",
              "      <td>13.0</td>\n",
              "      <td>0.005236</td>\n",
              "      <td>0.102523</td>\n",
              "      <td>0.169381</td>\n",
              "    </tr>\n",
              "    <tr>\n",
              "      <th>466</th>\n",
              "      <td>little</td>\n",
              "      <td>1026</td>\n",
              "      <td>1238</td>\n",
              "      <td>14.0</td>\n",
              "      <td>0.004838</td>\n",
              "      <td>0.107361</td>\n",
              "      <td>0.167101</td>\n",
              "    </tr>\n",
              "    <tr>\n",
              "      <th>601</th>\n",
              "      <td>delicious</td>\n",
              "      <td>1072</td>\n",
              "      <td>1175</td>\n",
              "      <td>15.0</td>\n",
              "      <td>0.004592</td>\n",
              "      <td>0.111953</td>\n",
              "      <td>0.174593</td>\n",
              "    </tr>\n",
              "    <tr>\n",
              "      <th>69</th>\n",
              "      <td>lot</td>\n",
              "      <td>903</td>\n",
              "      <td>1073</td>\n",
              "      <td>16.0</td>\n",
              "      <td>0.004193</td>\n",
              "      <td>0.116146</td>\n",
              "      <td>0.147068</td>\n",
              "    </tr>\n",
              "    <tr>\n",
              "      <th>48</th>\n",
              "      <td>go</td>\n",
              "      <td>858</td>\n",
              "      <td>1028</td>\n",
              "      <td>17.0</td>\n",
              "      <td>0.004017</td>\n",
              "      <td>0.120163</td>\n",
              "      <td>0.139739</td>\n",
              "    </tr>\n",
              "    <tr>\n",
              "      <th>528</th>\n",
              "      <td>staff</td>\n",
              "      <td>969</td>\n",
              "      <td>1023</td>\n",
              "      <td>18.0</td>\n",
              "      <td>0.003998</td>\n",
              "      <td>0.124160</td>\n",
              "      <td>0.157818</td>\n",
              "    </tr>\n",
              "    <tr>\n",
              "      <th>565</th>\n",
              "      <td>people</td>\n",
              "      <td>855</td>\n",
              "      <td>1017</td>\n",
              "      <td>19.0</td>\n",
              "      <td>0.003974</td>\n",
              "      <td>0.128134</td>\n",
              "      <td>0.139251</td>\n",
              "    </tr>\n",
              "    <tr>\n",
              "      <th>115</th>\n",
              "      <td>spot</td>\n",
              "      <td>850</td>\n",
              "      <td>1015</td>\n",
              "      <td>20.0</td>\n",
              "      <td>0.003966</td>\n",
              "      <td>0.132101</td>\n",
              "      <td>0.138436</td>\n",
              "    </tr>\n",
              "  </tbody>\n",
              "</table>\n",
              "</div>"
            ],
            "text/plain": [
              "          word  appears_in  count  ...  pct_total  cul_pct_total  appears_in_pct\n",
              "173       good        2885   4251  ...   0.016612       0.016612        0.469870\n",
              "59       great        2450   3385  ...   0.013228       0.029839        0.399023\n",
              "199       like        1668   2414  ...   0.009433       0.039273        0.271661\n",
              "6         love        1565   2042  ...   0.007980       0.047252        0.254886\n",
              "367       come        1473   1973  ...   0.007710       0.054962        0.239902\n",
              "369       time        1326   1753  ...   0.006850       0.061812        0.215961\n",
              "112        try        1326   1702  ...   0.006651       0.068463        0.215961\n",
              "9        drink        1254   1697  ...   0.006631       0.075095        0.204235\n",
              "150   friendly        1404   1469  ...   0.005740       0.080835        0.228664\n",
              "522       work        1152   1460  ...   0.005705       0.086541        0.187622\n",
              "53        nice        1174   1380  ...   0.005393       0.091933        0.191205\n",
              "23       order        1020   1370  ...   0.005354       0.097287        0.166124\n",
              "341       food        1040   1340  ...   0.005236       0.102523        0.169381\n",
              "466     little        1026   1238  ...   0.004838       0.107361        0.167101\n",
              "601  delicious        1072   1175  ...   0.004592       0.111953        0.174593\n",
              "69         lot         903   1073  ...   0.004193       0.116146        0.147068\n",
              "48          go         858   1028  ...   0.004017       0.120163        0.139739\n",
              "528      staff         969   1023  ...   0.003998       0.124160        0.157818\n",
              "565     people         855   1017  ...   0.003974       0.128134        0.139251\n",
              "115       spot         850   1015  ...   0.003966       0.132101        0.138436\n",
              "\n",
              "[20 rows x 7 columns]"
            ]
          },
          "metadata": {
            "tags": []
          },
          "execution_count": 309
        }
      ]
    },
    {
      "cell_type": "code",
      "metadata": {
        "id": "SExMX2BzNyZh",
        "colab_type": "code",
        "colab": {
          "base_uri": "https://localhost:8080/",
          "height": 662
        },
        "outputId": "9d802ead-e5b4-4315-f783-c50d60e87402"
      },
      "source": [
        "top20_bad"
      ],
      "execution_count": null,
      "outputs": [
        {
          "output_type": "execute_result",
          "data": {
            "text/html": [
              "<div>\n",
              "<style scoped>\n",
              "    .dataframe tbody tr th:only-of-type {\n",
              "        vertical-align: middle;\n",
              "    }\n",
              "\n",
              "    .dataframe tbody tr th {\n",
              "        vertical-align: top;\n",
              "    }\n",
              "\n",
              "    .dataframe thead th {\n",
              "        text-align: right;\n",
              "    }\n",
              "</style>\n",
              "<table border=\"1\" class=\"dataframe\">\n",
              "  <thead>\n",
              "    <tr style=\"text-align: right;\">\n",
              "      <th></th>\n",
              "      <th>word</th>\n",
              "      <th>appears_in</th>\n",
              "      <th>count</th>\n",
              "      <th>rank</th>\n",
              "      <th>pct_total</th>\n",
              "      <th>cul_pct_total</th>\n",
              "      <th>appears_in_pct</th>\n",
              "    </tr>\n",
              "  </thead>\n",
              "  <tbody>\n",
              "    <tr>\n",
              "      <th>32</th>\n",
              "      <td>good</td>\n",
              "      <td>645</td>\n",
              "      <td>988</td>\n",
              "      <td>1.0</td>\n",
              "      <td>0.013523</td>\n",
              "      <td>0.013523</td>\n",
              "      <td>0.436992</td>\n",
              "    </tr>\n",
              "    <tr>\n",
              "      <th>29</th>\n",
              "      <td>like</td>\n",
              "      <td>591</td>\n",
              "      <td>937</td>\n",
              "      <td>2.0</td>\n",
              "      <td>0.012825</td>\n",
              "      <td>0.026348</td>\n",
              "      <td>0.400407</td>\n",
              "    </tr>\n",
              "    <tr>\n",
              "      <th>156</th>\n",
              "      <td>order</td>\n",
              "      <td>434</td>\n",
              "      <td>768</td>\n",
              "      <td>3.0</td>\n",
              "      <td>0.010512</td>\n",
              "      <td>0.036860</td>\n",
              "      <td>0.294038</td>\n",
              "    </tr>\n",
              "    <tr>\n",
              "      <th>140</th>\n",
              "      <td>come</td>\n",
              "      <td>451</td>\n",
              "      <td>649</td>\n",
              "      <td>4.0</td>\n",
              "      <td>0.008883</td>\n",
              "      <td>0.045743</td>\n",
              "      <td>0.305556</td>\n",
              "    </tr>\n",
              "    <tr>\n",
              "      <th>457</th>\n",
              "      <td>time</td>\n",
              "      <td>415</td>\n",
              "      <td>600</td>\n",
              "      <td>5.0</td>\n",
              "      <td>0.008212</td>\n",
              "      <td>0.053955</td>\n",
              "      <td>0.281165</td>\n",
              "    </tr>\n",
              "    <tr>\n",
              "      <th>10</th>\n",
              "      <td>drink</td>\n",
              "      <td>358</td>\n",
              "      <td>599</td>\n",
              "      <td>6.0</td>\n",
              "      <td>0.008199</td>\n",
              "      <td>0.062154</td>\n",
              "      <td>0.242547</td>\n",
              "    </tr>\n",
              "    <tr>\n",
              "      <th>130</th>\n",
              "      <td>food</td>\n",
              "      <td>308</td>\n",
              "      <td>476</td>\n",
              "      <td>7.0</td>\n",
              "      <td>0.006515</td>\n",
              "      <td>0.068669</td>\n",
              "      <td>0.208672</td>\n",
              "    </tr>\n",
              "    <tr>\n",
              "      <th>47</th>\n",
              "      <td>great</td>\n",
              "      <td>346</td>\n",
              "      <td>463</td>\n",
              "      <td>8.0</td>\n",
              "      <td>0.006337</td>\n",
              "      <td>0.075006</td>\n",
              "      <td>0.234417</td>\n",
              "    </tr>\n",
              "    <tr>\n",
              "      <th>56</th>\n",
              "      <td>go</td>\n",
              "      <td>338</td>\n",
              "      <td>449</td>\n",
              "      <td>9.0</td>\n",
              "      <td>0.006146</td>\n",
              "      <td>0.081151</td>\n",
              "      <td>0.228997</td>\n",
              "    </tr>\n",
              "    <tr>\n",
              "      <th>117</th>\n",
              "      <td>try</td>\n",
              "      <td>338</td>\n",
              "      <td>426</td>\n",
              "      <td>10.0</td>\n",
              "      <td>0.005831</td>\n",
              "      <td>0.086982</td>\n",
              "      <td>0.228997</td>\n",
              "    </tr>\n",
              "    <tr>\n",
              "      <th>0</th>\n",
              "      <td>service</td>\n",
              "      <td>320</td>\n",
              "      <td>409</td>\n",
              "      <td>11.0</td>\n",
              "      <td>0.005598</td>\n",
              "      <td>0.092580</td>\n",
              "      <td>0.216802</td>\n",
              "    </tr>\n",
              "    <tr>\n",
              "      <th>509</th>\n",
              "      <td>work</td>\n",
              "      <td>299</td>\n",
              "      <td>398</td>\n",
              "      <td>12.0</td>\n",
              "      <td>0.005448</td>\n",
              "      <td>0.098028</td>\n",
              "      <td>0.202575</td>\n",
              "    </tr>\n",
              "    <tr>\n",
              "      <th>93</th>\n",
              "      <td>taste</td>\n",
              "      <td>278</td>\n",
              "      <td>384</td>\n",
              "      <td>13.0</td>\n",
              "      <td>0.005256</td>\n",
              "      <td>0.103284</td>\n",
              "      <td>0.188347</td>\n",
              "    </tr>\n",
              "    <tr>\n",
              "      <th>113</th>\n",
              "      <td>people</td>\n",
              "      <td>276</td>\n",
              "      <td>368</td>\n",
              "      <td>14.0</td>\n",
              "      <td>0.005037</td>\n",
              "      <td>0.108320</td>\n",
              "      <td>0.186992</td>\n",
              "    </tr>\n",
              "    <tr>\n",
              "      <th>36</th>\n",
              "      <td>pretty</td>\n",
              "      <td>277</td>\n",
              "      <td>356</td>\n",
              "      <td>15.0</td>\n",
              "      <td>0.004873</td>\n",
              "      <td>0.113193</td>\n",
              "      <td>0.187669</td>\n",
              "    </tr>\n",
              "    <tr>\n",
              "      <th>31</th>\n",
              "      <td>nice</td>\n",
              "      <td>283</td>\n",
              "      <td>349</td>\n",
              "      <td>16.0</td>\n",
              "      <td>0.004777</td>\n",
              "      <td>0.117970</td>\n",
              "      <td>0.191734</td>\n",
              "    </tr>\n",
              "    <tr>\n",
              "      <th>321</th>\n",
              "      <td>want</td>\n",
              "      <td>273</td>\n",
              "      <td>348</td>\n",
              "      <td>17.0</td>\n",
              "      <td>0.004763</td>\n",
              "      <td>0.122733</td>\n",
              "      <td>0.184959</td>\n",
              "    </tr>\n",
              "    <tr>\n",
              "      <th>215</th>\n",
              "      <td>look</td>\n",
              "      <td>247</td>\n",
              "      <td>326</td>\n",
              "      <td>18.0</td>\n",
              "      <td>0.004462</td>\n",
              "      <td>0.127195</td>\n",
              "      <td>0.167344</td>\n",
              "    </tr>\n",
              "    <tr>\n",
              "      <th>776</th>\n",
              "      <td>ask</td>\n",
              "      <td>220</td>\n",
              "      <td>325</td>\n",
              "      <td>19.0</td>\n",
              "      <td>0.004448</td>\n",
              "      <td>0.131643</td>\n",
              "      <td>0.149051</td>\n",
              "    </tr>\n",
              "    <tr>\n",
              "      <th>287</th>\n",
              "      <td>think</td>\n",
              "      <td>258</td>\n",
              "      <td>317</td>\n",
              "      <td>20.0</td>\n",
              "      <td>0.004339</td>\n",
              "      <td>0.135982</td>\n",
              "      <td>0.174797</td>\n",
              "    </tr>\n",
              "  </tbody>\n",
              "</table>\n",
              "</div>"
            ],
            "text/plain": [
              "        word  appears_in  count  rank  pct_total  cul_pct_total  appears_in_pct\n",
              "32      good         645    988   1.0   0.013523       0.013523        0.436992\n",
              "29      like         591    937   2.0   0.012825       0.026348        0.400407\n",
              "156    order         434    768   3.0   0.010512       0.036860        0.294038\n",
              "140     come         451    649   4.0   0.008883       0.045743        0.305556\n",
              "457     time         415    600   5.0   0.008212       0.053955        0.281165\n",
              "10     drink         358    599   6.0   0.008199       0.062154        0.242547\n",
              "130     food         308    476   7.0   0.006515       0.068669        0.208672\n",
              "47     great         346    463   8.0   0.006337       0.075006        0.234417\n",
              "56        go         338    449   9.0   0.006146       0.081151        0.228997\n",
              "117      try         338    426  10.0   0.005831       0.086982        0.228997\n",
              "0    service         320    409  11.0   0.005598       0.092580        0.216802\n",
              "509     work         299    398  12.0   0.005448       0.098028        0.202575\n",
              "93     taste         278    384  13.0   0.005256       0.103284        0.188347\n",
              "113   people         276    368  14.0   0.005037       0.108320        0.186992\n",
              "36    pretty         277    356  15.0   0.004873       0.113193        0.187669\n",
              "31      nice         283    349  16.0   0.004777       0.117970        0.191734\n",
              "321     want         273    348  17.0   0.004763       0.122733        0.184959\n",
              "215     look         247    326  18.0   0.004462       0.127195        0.167344\n",
              "776      ask         220    325  19.0   0.004448       0.131643        0.149051\n",
              "287    think         258    317  20.0   0.004339       0.135982        0.174797"
            ]
          },
          "metadata": {
            "tags": []
          },
          "execution_count": 310
        }
      ]
    },
    {
      "cell_type": "markdown",
      "metadata": {
        "id": "YxD8kt9LSEVG",
        "colab_type": "text"
      },
      "source": [
        "## Can visualize the words with the greatest difference in counts between 'good' & 'bad'?\n",
        "\n",
        "Couple Notes: \n",
        "- Rel. freq. instead of absolute counts b/c of different numbers of reviews\n",
        "- Only look at the top 5-10 words with the greatest differences\n"
      ]
    },
    {
      "cell_type": "code",
      "metadata": {
        "id": "pYszAphASEVJ",
        "colab_type": "code",
        "colab": {}
      },
      "source": [
        "top10_good = wc_good[wc_good['rank'] <=10]\n",
        "top10_bad = wc_bad[wc_bad['rank'] <=10]"
      ],
      "execution_count": 319,
      "outputs": []
    },
    {
      "cell_type": "code",
      "metadata": {
        "id": "JovuuJatSGto",
        "colab_type": "code",
        "colab": {
          "base_uri": "https://localhost:8080/",
          "height": 248
        },
        "outputId": "f97967b8-c60c-4757-ffcb-0741bb159480"
      },
      "source": [
        "#Top 10 bad\n",
        "squarify.plot(sizes=top10_bad['pct_total'], label=top10_bad['word'], alpha=.8 )\n",
        "plt.axis('off')\n",
        "plt.show()"
      ],
      "execution_count": 322,
      "outputs": [
        {
          "output_type": "display_data",
          "data": {
            "image/png": "[encoded data removed]",
            "text/plain": [
              "<Figure size 432x288 with 1 Axes>"
            ]
          },
          "metadata": {
            "tags": [],
            "needs_background": "light"
          }
        }
      ]
    },
    {
      "cell_type": "code",
      "metadata": {
        "id": "czhasVTDSh5x",
        "colab_type": "code",
        "colab": {
          "base_uri": "https://localhost:8080/",
          "height": 248
        },
        "outputId": "c8ac2dca-abee-44c2-b5ef-b7b44012dbc5"
      },
      "source": [
        "#TOp 10 good \n",
        "squarify.plot(sizes=top10_good['pct_total'], label=top20_good['word'], alpha=.8 )\n",
        "plt.axis('off')\n",
        "plt.show()"
      ],
      "execution_count": 323,
      "outputs": [
        {
          "output_type": "display_data",
          "data": {
            "image/png": "[encoded data removed]",
            "text/plain": [
              "<Figure size 432x288 with 1 Axes>"
            ]
          },
          "metadata": {
            "tags": [],
            "needs_background": "light"
          }
        }
      ]
    },
    {
      "cell_type": "markdown",
      "metadata": {
        "colab_type": "text",
        "id": "1dCb1q8XphcP",
        "toc-hr-collapsed": true
      },
      "source": [
        "## Stretch Goals\n",
        "\n",
        "* Analyze another corpus of documents - such as Indeed.com job listings ;).\n",
        "* Play with the Spacy API to\n",
        " - Extract Named Entities\n",
        " - Extracting 'noun chunks'\n",
        " - Attempt Document Classification with just Spacy\n",
        " - *Note:* This [course](https://course.spacy.io/) will be of interesting in helping you with these stretch goals. \n",
        "* Try to build a plotly dash app with your text data \n",
        "\n"
      ]
    }
  ]
}